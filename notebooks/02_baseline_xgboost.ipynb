{
 "cells": [
  {
   "cell_type": "markdown",
   "id": "a88c5d34",
   "metadata": {},
   "source": [
    "# XGBoost Baseline: Charging Demand Forecast\n",
    "\n",
    "This notebook runs the full pipeline on the synthetic dataset included in `/data/raw/`.\n"
   ]
  },
  {
   "cell_type": "code",
   "execution_count": null,
   "id": "b4a885ef",
   "metadata": {},
   "outputs": [],
   "source": [
    "# 1. Install / import\n",
    "import warnings\n",
    "warnings.filterwarnings('ignore')\n",
    "import pandas as pd\n",
    "import numpy as np\n",
    "import matplotlib.pyplot as plt\n",
    "import xgboost as xgb\n",
    "from sklearn.metrics import mean_absolute_error, mean_squared_error\n",
    "\n",
    "from src.data_pipeline import load_sessions, aggregate_hourly\n",
    "from src.features import add_time_features, add_lag_features\n",
    "\n",
    "# load data\n",
    "try:\n",
    "    df = load_sessions()\n",
    "except Exception as e:\n",
    "    print('Data not found, generating synthetic data...')\n",
    "    import data.synthetic_generator as gen\n",
    "    gen.generate_synthetic_data(n_sites=6, n_days=60)\n",
    "    df = load_sessions()\n",
    "\n",
    "print('Loaded rows:', len(df))\n",
    "\n",
    "df.head()"
   ]
  },
  {
   "cell_type": "code",
   "execution_count": null,
   "id": "650fe4ca",
   "metadata": {},
   "outputs": [],
   "source": [
    "# 2. Aggregate & features\n",
    "hourly = aggregate_hourly(df)\n",
    "hourly['hour'] = pd.to_datetime(hourly['hour'])\n",
    "hourly = add_time_features(hourly, ts_col='hour')\n",
    "hourly = add_lag_features(hourly, group_col='site_id', target='sessions')\n",
    "hourly = hourly.dropna().reset_index(drop=True)\n",
    "\n",
    "hourly.head()"
   ]
  },
  {
   "cell_type": "code",
   "execution_count": null,
   "id": "f7323ebe",
   "metadata": {},
   "outputs": [],
   "source": [
    "# 3. Train-test split (time-based)\n",
    "# Use first 90% of data for training\n",
    "split_idx = int(len(hourly) * 0.9)\n",
    "train = hourly.iloc[:split_idx]\n",
    "test = hourly.iloc[split_idx:]\n",
    "\n",
    "features = ['hour_of_day','dayofweek','is_weekend','hour_sin','hour_cos','lag_1','lag_24','rmean_24']\n",
    "X_train, y_train = train[features], train['sessions']\n",
    "X_test, y_test = test[features], test['sessions']\n",
    "\n",
    "print('Train size', X_train.shape, 'Test size', X_test.shape)"
   ]
  },
  {
   "cell_type": "code",
   "execution_count": null,
   "id": "d641d751",
   "metadata": {},
   "outputs": [],
   "source": [
    "# 4. Train XGBoost\n",
    "dtrain = xgb.DMatrix(X_train, label=y_train)\n",
    "dtest = xgb.DMatrix(X_test, label=y_test)\n",
    "params = {'objective':'reg:squarederror','max_depth':6,'eta':0.1,'seed':42}\n",
    "bst = xgb.train(params, dtrain, num_boost_round=250)\n",
    "\n",
    "# predictions\n",
    "preds = bst.predict(dtest)\n",
    "mae = mean_absolute_error(y_test, preds)\n",
    "rmse = mean_squared_error(y_test, preds, squared=False)\n",
    "print(f'MAE: {mae:.3f}, RMSE: {rmse:.3f}')"
   ]
  },
  {
   "cell_type": "code",
   "execution_count": null,
   "id": "4b64e539",
   "metadata": {},
   "outputs": [],
   "source": [
    "# 5. Visualize example site\n",
    "import matplotlib.pyplot as plt\n",
    "example_site = hourly['site_id'].unique()[0]\n",
    "site_test = test[test['site_id']==example_site]\n",
    "site_idx = site_test.index\n",
    "plt.figure(figsize=(12,4))\n",
    "plt.plot(site_test['hour'], site_test['sessions'], label='actual')\n",
    "plt.plot(site_test['hour'], preds[site_idx - split_idx], label='pred')\n",
    "plt.legend()\n",
    "plt.title(f'Site {example_site} actual vs pred (test set)')\n",
    "plt.show()"
   ]
  },
  {
   "cell_type": "code",
   "execution_count": null,
   "id": "177d6c06",
   "metadata": {},
   "outputs": [],
   "source": [
    "# 6. Save model artifact (optional)\n",
    "import joblib\n",
    "import os\n",
    "os.makedirs('models', exist_ok=True)\n",
    "joblib.dump(bst, 'models/xgb_baseline.joblib')\n",
    "print('Saved model to models/xgb_baseline.joblib')"
   ]
  },
  {
   "cell_type": "code",
   "execution_count": null,
   "id": "0d311b9e",
   "metadata": {},
   "outputs": [],
   "source": [
    "# 7. SHAP explainability (optional, may take time)\n",
    "try:\n",
    "    import shap\n",
    "    expl = shap.TreeExplainer(bst)\n",
    "    shap_values = expl.shap_values(X_test)\n",
    "    shap.summary_plot(shap_values, X_test)\n",
    "except Exception as e:\n",
    "    print('SHAP not installed or failed:', e)\n"
   ]
  }
 ],
 "metadata": {},
 "nbformat": 4,
 "nbformat_minor": 5
}
